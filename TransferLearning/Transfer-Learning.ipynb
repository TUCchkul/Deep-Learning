{
 "cells": [
  {
   "cell_type": "code",
   "execution_count": 1,
   "id": "34f75515",
   "metadata": {},
   "outputs": [],
   "source": [
    "import os"
   ]
  },
  {
   "cell_type": "code",
   "execution_count": 4,
   "id": "26cf0bc7",
   "metadata": {},
   "outputs": [],
   "source": [
    "import os\n",
    "import tensorflow as tf\n",
    "import numpy as np\n",
    "import seaborn as sns\n",
    "import matplotlib.pyplot as plt\n",
    "plt.style.use(\"fivethirtyeight\")\n",
    "%load_ext tensorboard"
   ]
  },
  {
   "cell_type": "code",
   "execution_count": 5,
   "id": "89e27f4e",
   "metadata": {},
   "outputs": [],
   "source": [
    "(X_train_full, y_train_full),(X_test, y_test)=tf.keras.datasets.mnist.load_data()\n",
    "X_train_full=X_train_full/255.0\n",
    "X_test=X_test/255.0\n",
    "X_valid,X_train=X_train_full[:5000],X_train_full[5000:]\n",
    "y_valid,y_train=y_train_full[:5000],y_train_full[5000:]\n"
   ]
  },
  {
   "cell_type": "code",
   "execution_count": 7,
   "id": "a48a3ccf",
   "metadata": {},
   "outputs": [],
   "source": [
    "tf.random.set_seed(42)\n",
    "#tf.random.seed(42)\n",
    "LAYERS=[\n",
    "    tf.keras.layers.Flatten(input_shape=[28,28]),\n",
    "    tf.keras.layers.Dense(300, kernel_initializer=\"he_normal\"),\n",
    "    tf.keras.layers.LeakyReLU(),\n",
    "    tf.keras.layers.Dense(300, kernel_initializer=\"he_normal\"),\n",
    "    tf.keras.layers.LeakyReLU(),\n",
    "    tf.keras.layers.Dense(10, activation=\"softmax\")\n",
    "    \n",
    "]"
   ]
  },
  {
   "cell_type": "code",
   "execution_count": 8,
   "id": "a15fdd01",
   "metadata": {},
   "outputs": [],
   "source": [
    "model=tf.keras.models.Sequential(LAYERS)"
   ]
  },
  {
   "cell_type": "code",
   "execution_count": 9,
   "id": "a20a23ef",
   "metadata": {},
   "outputs": [
    {
     "name": "stderr",
     "output_type": "stream",
     "text": [
      "D:\\DLCVANLP\\Deep-Learning\\env\\lib\\site-packages\\keras\\optimizer_v2\\gradient_descent.py:102: UserWarning: The `lr` argument is deprecated, use `learning_rate` instead.\n",
      "  super(SGD, self).__init__(name, **kwargs)\n"
     ]
    }
   ],
   "source": [
    "model.compile(loss=\"sparse_categorical_crossentropy\", optimizer=tf.keras.optimizers.SGD(lr=1e-3), metrics=[\"accuracy\"])"
   ]
  },
  {
   "cell_type": "code",
   "execution_count": 10,
   "id": "1d40abb9",
   "metadata": {},
   "outputs": [
    {
     "name": "stdout",
     "output_type": "stream",
     "text": [
      "Model: \"sequential\"\n",
      "_________________________________________________________________\n",
      " Layer (type)                Output Shape              Param #   \n",
      "=================================================================\n",
      " flatten (Flatten)           (None, 784)               0         \n",
      "                                                                 \n",
      " dense (Dense)               (None, 300)               235500    \n",
      "                                                                 \n",
      " leaky_re_lu (LeakyReLU)     (None, 300)               0         \n",
      "                                                                 \n",
      " dense_1 (Dense)             (None, 300)               90300     \n",
      "                                                                 \n",
      " leaky_re_lu_1 (LeakyReLU)   (None, 300)               0         \n",
      "                                                                 \n",
      " dense_2 (Dense)             (None, 10)                3010      \n",
      "                                                                 \n",
      "=================================================================\n",
      "Total params: 328,810\n",
      "Trainable params: 328,810\n",
      "Non-trainable params: 0\n",
      "_________________________________________________________________\n"
     ]
    }
   ],
   "source": [
    "model.summary()"
   ]
  },
  {
   "cell_type": "code",
   "execution_count": 11,
   "id": "ed681fd8",
   "metadata": {},
   "outputs": [
    {
     "name": "stdout",
     "output_type": "stream",
     "text": [
      "Epoch 1/10\n",
      "1719/1719 - 8s - loss: 1.4752 - accuracy: 0.6145 - val_loss: 0.8874 - val_accuracy: 0.8014 - 8s/epoch - 5ms/step\n",
      "Epoch 2/10\n",
      "1719/1719 - 5s - loss: 0.7117 - accuracy: 0.8279 - val_loss: 0.5725 - val_accuracy: 0.8600 - 5s/epoch - 3ms/step\n",
      "Epoch 3/10\n",
      "1719/1719 - 5s - loss: 0.5274 - accuracy: 0.8635 - val_loss: 0.4635 - val_accuracy: 0.8770 - 5s/epoch - 3ms/step\n",
      "Epoch 4/10\n",
      "1719/1719 - 5s - loss: 0.4505 - accuracy: 0.8792 - val_loss: 0.4078 - val_accuracy: 0.8912 - 5s/epoch - 3ms/step\n",
      "Epoch 5/10\n",
      "1719/1719 - 5s - loss: 0.4078 - accuracy: 0.8875 - val_loss: 0.3742 - val_accuracy: 0.8992 - 5s/epoch - 3ms/step\n",
      "Epoch 6/10\n",
      "1719/1719 - 5s - loss: 0.3800 - accuracy: 0.8938 - val_loss: 0.3518 - val_accuracy: 0.9032 - 5s/epoch - 3ms/step\n",
      "Epoch 7/10\n",
      "1719/1719 - 5s - loss: 0.3600 - accuracy: 0.8983 - val_loss: 0.3345 - val_accuracy: 0.9046 - 5s/epoch - 3ms/step\n",
      "Epoch 8/10\n",
      "1719/1719 - 5s - loss: 0.3446 - accuracy: 0.9024 - val_loss: 0.3209 - val_accuracy: 0.9118 - 5s/epoch - 3ms/step\n",
      "Epoch 9/10\n",
      "1719/1719 - 5s - loss: 0.3320 - accuracy: 0.9047 - val_loss: 0.3111 - val_accuracy: 0.9150 - 5s/epoch - 3ms/step\n",
      "Epoch 10/10\n",
      "1719/1719 - 5s - loss: 0.3216 - accuracy: 0.9083 - val_loss: 0.3013 - val_accuracy: 0.9160 - 5s/epoch - 3ms/step\n"
     ]
    }
   ],
   "source": [
    "history=model.fit(X_train,y_train, epochs=10, validation_data=(X_valid,y_valid), verbose=2)"
   ]
  },
  {
   "cell_type": "code",
   "execution_count": 12,
   "id": "8690238b",
   "metadata": {},
   "outputs": [],
   "source": [
    "model.save(\"pretrained_mnist_model.h5\")"
   ]
  },
  {
   "cell_type": "markdown",
   "id": "8ba5075a",
   "metadata": {},
   "source": [
    "# Transfer Learning\n",
    "## New  Problem statement-----\n",
    "Classify handwritten digits odd and even"
   ]
  }
 ],
 "metadata": {
  "kernelspec": {
   "display_name": "Python 3 (ipykernel)",
   "language": "python",
   "name": "python3"
  },
  "language_info": {
   "codemirror_mode": {
    "name": "ipython",
    "version": 3
   },
   "file_extension": ".py",
   "mimetype": "text/x-python",
   "name": "python",
   "nbconvert_exporter": "python",
   "pygments_lexer": "ipython3",
   "version": "3.7.0"
  }
 },
 "nbformat": 4,
 "nbformat_minor": 5
}
