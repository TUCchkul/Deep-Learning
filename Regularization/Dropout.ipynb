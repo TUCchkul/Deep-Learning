{
 "cells": [
  {
   "cell_type": "markdown",
   "id": "4ffc5f4a",
   "metadata": {},
   "source": [
    "## Bernouli Random Variable"
   ]
  },
  {
   "cell_type": "code",
   "execution_count": 5,
   "id": "73f6830d",
   "metadata": {},
   "outputs": [],
   "source": [
    "import tensorflow as tf\n",
    "#import tensorflow_probability as tfp\n",
    "import tensorflow_probability as tfp"
   ]
  },
  {
   "cell_type": "code",
   "execution_count": 11,
   "id": "2cdeaeda",
   "metadata": {},
   "outputs": [
    {
     "data": {
      "text/plain": [
       "<tf.Tensor: shape=(10, 1), dtype=float32, numpy=\n",
       "array([[0.],\n",
       "       [1.],\n",
       "       [0.],\n",
       "       [1.],\n",
       "       [0.],\n",
       "       [0.],\n",
       "       [0.],\n",
       "       [0.],\n",
       "       [0.],\n",
       "       [1.]], dtype=float32)>"
      ]
     },
     "execution_count": 11,
     "metadata": {},
     "output_type": "execute_result"
    }
   ],
   "source": [
    "prob=0.3\n",
    "r=tfp.distributions.Bernoulli(probs=prob, dtype=tf.float32).sample(sample_shape=(10,1))\n",
    "r"
   ]
  },
  {
   "cell_type": "code",
   "execution_count": 8,
   "id": "2255bec1",
   "metadata": {},
   "outputs": [
    {
     "data": {
      "text/plain": [
       "<tf.Tensor: shape=(10, 1), dtype=float32, numpy=\n",
       "array([[0.],\n",
       "       [0.],\n",
       "       [1.],\n",
       "       [1.],\n",
       "       [1.],\n",
       "       [1.],\n",
       "       [1.],\n",
       "       [1.],\n",
       "       [0.],\n",
       "       [1.]], dtype=float32)>"
      ]
     },
     "execution_count": 8,
     "metadata": {},
     "output_type": "execute_result"
    }
   ],
   "source": [
    "prob=0.7\n",
    "r=tfp.distributions.Bernoulli(probs=prob, dtype=tf.float32).sample(sample_shape=(10,1))\n",
    "r"
   ]
  },
  {
   "cell_type": "code",
   "execution_count": 9,
   "id": "852c3cc0",
   "metadata": {},
   "outputs": [
    {
     "data": {
      "text/plain": [
       "<tf.Tensor: shape=(10, 1), dtype=float32, numpy=\n",
       "array([[-1.3825104 ],\n",
       "       [-0.93090063],\n",
       "       [-0.15112455],\n",
       "       [ 0.99205935],\n",
       "       [-2.087846  ],\n",
       "       [-0.33548984],\n",
       "       [ 1.272077  ],\n",
       "       [ 0.6341548 ],\n",
       "       [ 0.36994117],\n",
       "       [ 1.7863836 ]], dtype=float32)>"
      ]
     },
     "execution_count": 9,
     "metadata": {},
     "output_type": "execute_result"
    }
   ],
   "source": [
    "y_prev=tf.random.normal((10,1))\n",
    "y_prev"
   ]
  },
  {
   "cell_type": "code",
   "execution_count": 10,
   "id": "8899a728",
   "metadata": {},
   "outputs": [
    {
     "data": {
      "text/plain": [
       "<tf.Tensor: shape=(10, 1), dtype=float32, numpy=\n",
       "array([[-0.        ],\n",
       "       [-0.        ],\n",
       "       [-0.15112455],\n",
       "       [ 0.99205935],\n",
       "       [-2.087846  ],\n",
       "       [-0.33548984],\n",
       "       [ 1.272077  ],\n",
       "       [ 0.6341548 ],\n",
       "       [ 0.        ],\n",
       "       [ 1.7863836 ]], dtype=float32)>"
      ]
     },
     "execution_count": 10,
     "metadata": {},
     "output_type": "execute_result"
    }
   ],
   "source": [
    "tf.math.multiply(y_prev,r)"
   ]
  },
  {
   "cell_type": "markdown",
   "id": "e2c6a764",
   "metadata": {},
   "source": [
    "# Dropout  layer"
   ]
  },
  {
   "cell_type": "code",
   "execution_count": 13,
   "id": "3e101bdd",
   "metadata": {},
   "outputs": [],
   "source": [
    "from tensorflow import keras"
   ]
  },
  {
   "cell_type": "code",
   "execution_count": 14,
   "id": "5c98935a",
   "metadata": {},
   "outputs": [],
   "source": [
    "model = keras.models.Sequential([\n",
    "    keras.layers.Flatten(input_shape=[28, 28]),\n",
    "    keras.layers.Dropout(rate=0.5),\n",
    "    keras.layers.Dense(300, activation=\"elu\", kernel_initializer=\"he_normal\"),\n",
    "    keras.layers.Dropout(rate=0.5),\n",
    "    keras.layers.Dense(100, activation=\"elu\", kernel_initializer=\"he_normal\"),\n",
    "    keras.layers.Dropout(rate=0.5),\n",
    "    keras.layers.Dense(10, activation=\"softmax\")\n",
    "])\n",
    "model.compile(loss=\"sparse_categorical_crossentropy\", optimizer=\"nadam\", metrics=[\"accuracy\"])\n",
    "# n_epochs = 2\n",
    "# history = model.fit(X_train_scaled, y_train, epochs=n_epochs,\n",
    "#                     validation_data=(X_valid_scaled, y_valid))"
   ]
  },
  {
   "cell_type": "code",
   "execution_count": 15,
   "id": "90456fbb",
   "metadata": {},
   "outputs": [
    {
     "name": "stdout",
     "output_type": "stream",
     "text": [
      "Model: \"sequential\"\n",
      "_________________________________________________________________\n",
      " Layer (type)                Output Shape              Param #   \n",
      "=================================================================\n",
      " flatten (Flatten)           (None, 784)               0         \n",
      "                                                                 \n",
      " dropout (Dropout)           (None, 784)               0         \n",
      "                                                                 \n",
      " dense (Dense)               (None, 300)               235500    \n",
      "                                                                 \n",
      " dropout_1 (Dropout)         (None, 300)               0         \n",
      "                                                                 \n",
      " dense_1 (Dense)             (None, 100)               30100     \n",
      "                                                                 \n",
      " dropout_2 (Dropout)         (None, 100)               0         \n",
      "                                                                 \n",
      " dense_2 (Dense)             (None, 10)                1010      \n",
      "                                                                 \n",
      "=================================================================\n",
      "Total params: 266,610\n",
      "Trainable params: 266,610\n",
      "Non-trainable params: 0\n",
      "_________________________________________________________________\n"
     ]
    }
   ],
   "source": [
    "model.summary()"
   ]
  },
  {
   "cell_type": "code",
   "execution_count": 20,
   "id": "d7c4f89f",
   "metadata": {},
   "outputs": [],
   "source": [
    "layer=tf.keras.layers.Dropout(.3, input_shape=(1,))"
   ]
  },
  {
   "cell_type": "code",
   "execution_count": 21,
   "id": "b82f36b6",
   "metadata": {},
   "outputs": [
    {
     "data": {
      "text/plain": [
       "<tf.Tensor: shape=(10, 1), dtype=float32, numpy=\n",
       "array([[-0.17588343],\n",
       "       [-0.46248433],\n",
       "       [-1.0595856 ],\n",
       "       [-1.7844166 ],\n",
       "       [ 0.7109318 ],\n",
       "       [-0.69706124],\n",
       "       [ 0.13242327],\n",
       "       [-0.23351216],\n",
       "       [ 0.44561654],\n",
       "       [-0.1868871 ]], dtype=float32)>"
      ]
     },
     "execution_count": 21,
     "metadata": {},
     "output_type": "execute_result"
    }
   ],
   "source": [
    "data=tf.random.normal((10,1))\n",
    "data"
   ]
  },
  {
   "cell_type": "code",
   "execution_count": 22,
   "id": "4f59271a",
   "metadata": {},
   "outputs": [
    {
     "data": {
      "text/plain": [
       "<tf.Tensor: shape=(10, 1), dtype=float32, numpy=\n",
       "array([[-0.25126204],\n",
       "       [-0.        ],\n",
       "       [-1.5136937 ],\n",
       "       [-0.        ],\n",
       "       [ 0.        ],\n",
       "       [-0.9958018 ],\n",
       "       [ 0.        ],\n",
       "       [-0.3335888 ],\n",
       "       [ 0.        ],\n",
       "       [-0.26698157]], dtype=float32)>"
      ]
     },
     "execution_count": 22,
     "metadata": {},
     "output_type": "execute_result"
    }
   ],
   "source": [
    "layer(data, training=True)"
   ]
  },
  {
   "cell_type": "code",
   "execution_count": null,
   "id": "d7d3f0bb",
   "metadata": {},
   "outputs": [],
   "source": []
  }
 ],
 "metadata": {
  "kernelspec": {
   "display_name": "Python 3 (ipykernel)",
   "language": "python",
   "name": "python3"
  },
  "language_info": {
   "codemirror_mode": {
    "name": "ipython",
    "version": 3
   },
   "file_extension": ".py",
   "mimetype": "text/x-python",
   "name": "python",
   "nbconvert_exporter": "python",
   "pygments_lexer": "ipython3",
   "version": "3.7.0"
  }
 },
 "nbformat": 4,
 "nbformat_minor": 5
}
